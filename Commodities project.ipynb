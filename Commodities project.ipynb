{
  "cells": [
    {
      "cell_type": "code",
      "execution_count": 237,
      "id": "a9ca5f1b",
      "metadata": {
        "colab": {
          "base_uri": "https://localhost:8080/"
        },
        "id": "a9ca5f1b",
        "outputId": "c9e47f0a-2f1d-4f91-812c-fea32be72f17"
      },
      "outputs": [
        {
          "output_type": "stream",
          "name": "stdout",
          "text": [
            "Overwriting Dashboardapp.py\n"
          ]
        }
      ],
      "source": [
        "%%writefile Dashboardapp.py\n",
        "\n",
        "import streamlit as st\n",
        "import numpy as np\n",
        "import pandas as pd\n",
        "import matplotlib.pyplot as plt\n",
        "import seaborn as sns\n",
        "from sklearn.pipeline import Pipeline\n",
        "from sklearn.model_selection import train_test_split, GridSearchCV, RandomizedSearchCV\n",
        "from sklearn.preprocessing import LabelEncoder, StandardScaler, OneHotEncoder\n",
        "from sklearn.compose import ColumnTransformer\n",
        "from sklearn.impute import SimpleImputer\n",
        "from sklearn.decomposition import PCA\n",
        "from sklearn.ensemble import RandomForestRegressor\n",
        "from sklearn.model_selection import train_test_split\n",
        "from sklearn.metrics import mean_absolute_error\n",
        "from sklearn.linear_model import LinearRegression\n"
      ]
    },
    {
      "cell_type": "code",
      "source": [
        "from google.colab import drive\n",
        "drive.mount('/content/drive')"
      ],
      "metadata": {
        "colab": {
          "base_uri": "https://localhost:8080/"
        },
        "id": "cFXwFCSTJiU7",
        "outputId": "f121d6e2-6318-4c51-af99-5786168b1a50"
      },
      "id": "cFXwFCSTJiU7",
      "execution_count": 126,
      "outputs": [
        {
          "output_type": "stream",
          "name": "stdout",
          "text": [
            "Drive already mounted at /content/drive; to attempt to forcibly remount, call drive.mount(\"/content/drive\", force_remount=True).\n"
          ]
        }
      ]
    },
    {
      "cell_type": "code",
      "execution_count": 200,
      "id": "beb87dde",
      "metadata": {
        "id": "beb87dde"
      },
      "outputs": [],
      "source": [
        "sugar_data = pd.read_csv('/content/drive/MyDrive/Data/psd_sugar.csv')\n",
        "delhi_weather = pd.read_csv('/content/drive/MyDrive/Data/Delhi_NCR_1990_2022_Safdarjung.csv')\n",
        "lucknow_weather = pd.read_csv('/content/drive/MyDrive/Data/Lucknow_1990_2022.csv')\n",
        "mumbai_weather = pd.read_csv('/content/drive/MyDrive/Data/Mumbai_1990_2022_Santacruz.csv')\n",
        "sugar_price = pd.read_csv('/content/drive/MyDrive/Data/PSUGAISAUSDM.csv')"
      ]
    },
    {
      "cell_type": "code",
      "execution_count": 128,
      "id": "5692c3ad",
      "metadata": {
        "id": "5692c3ad"
      },
      "outputs": [],
      "source": [
        "delhi_weather.rename(columns={'time': 'Date'}, inplace=True)\n",
        "delhi_weather.rename(columns={'tavg': 'Delhi_avg_weather'}, inplace=True)\n",
        "delhi_weather.rename(columns={'prcp': 'Delhi_prcp'}, inplace=True)"
      ]
    },
    {
      "cell_type": "code",
      "execution_count": 129,
      "id": "613dec33-7c28-4e88-8cf7-c67464158019",
      "metadata": {
        "id": "613dec33-7c28-4e88-8cf7-c67464158019"
      },
      "outputs": [],
      "source": [
        "delhi_weather['Date'] = pd.to_datetime(delhi_weather['Date'], dayfirst=True, errors='coerce')\n",
        "\n",
        "#clean version of delhi weather\n",
        "delhi_weather_data = delhi_weather[['Date', 'Delhi_avg_weather', 'Delhi_prcp']]"
      ]
    },
    {
      "cell_type": "code",
      "execution_count": 130,
      "id": "4b9c242a",
      "metadata": {
        "id": "4b9c242a"
      },
      "outputs": [],
      "source": [
        "lucknow_weather.rename(columns={'time': 'Date'}, inplace=True)\n",
        "lucknow_weather.rename(columns={'tavg': 'Lucknow_avg_weather'}, inplace=True)\n",
        "lucknow_weather.rename(columns={'prcp': 'Lucknow_prcp'}, inplace=True)"
      ]
    },
    {
      "cell_type": "code",
      "execution_count": 131,
      "id": "492e3eaf",
      "metadata": {
        "id": "492e3eaf"
      },
      "outputs": [],
      "source": [
        "\n",
        "lucknow_weather['Date'] = pd.to_datetime(lucknow_weather['Date'], dayfirst=True, errors='coerce')\n",
        "\n",
        "#clean version of lucknow weather\n",
        "lucknow_weather_data = lucknow_weather[['Date', 'Lucknow_avg_weather', 'Lucknow_prcp']]"
      ]
    },
    {
      "cell_type": "code",
      "execution_count": 132,
      "id": "ed43fa29",
      "metadata": {
        "id": "ed43fa29"
      },
      "outputs": [],
      "source": [
        "mumbai_weather.rename(columns={'time': 'Date'}, inplace=True)\n",
        "mumbai_weather.rename(columns={'tavg': 'Mumbai_avg_weather'}, inplace=True)\n",
        "mumbai_weather.rename(columns={'prcp': 'Mumbai_prcp'}, inplace=True)"
      ]
    },
    {
      "cell_type": "code",
      "execution_count": 133,
      "id": "d03991cb",
      "metadata": {
        "id": "d03991cb"
      },
      "outputs": [],
      "source": [
        "mumbai_weather['Date'] = pd.to_datetime(mumbai_weather['Date'], dayfirst=True, errors='coerce')\n",
        "\n",
        "\n",
        "#clean version of mumabi weather\n",
        "mumbai_weather_data = mumbai_weather[['Date', 'Mumbai_avg_weather', 'Mumbai_prcp']]"
      ]
    },
    {
      "cell_type": "code",
      "execution_count": 134,
      "id": "ed73814f",
      "metadata": {
        "id": "ed73814f"
      },
      "outputs": [],
      "source": [
        "mumbai_lucknow_weather = pd.merge(mumbai_weather_data, lucknow_weather_data, on='Date')\n",
        "india_weather = pd.merge(mumbai_lucknow_weather, delhi_weather_data, on='Date')"
      ]
    },
    {
      "cell_type": "code",
      "execution_count": 135,
      "id": "fb1c8c91",
      "metadata": {
        "id": "fb1c8c91"
      },
      "outputs": [],
      "source": [
        "india_weather['Date'] = pd.to_datetime(india_weather['Date'])\n",
        "\n",
        "india_weather.set_index('Date', inplace=True)\n",
        "\n",
        "\n"
      ]
    },
    {
      "cell_type": "code",
      "execution_count": 136,
      "id": "fdbfb6d1",
      "metadata": {
        "id": "fdbfb6d1"
      },
      "outputs": [],
      "source": [
        "countries= ['Brazil', 'India']\n",
        "\n",
        "sugar_data.rename(columns={'Calendar_Year': 'Date'}, inplace=True)\n",
        "sugar_data.rename(columns={'Value': 'Total_Cane_Sugar_Production_1000MT'}, inplace=True)"
      ]
    },
    {
      "cell_type": "code",
      "execution_count": 137,
      "id": "1ce83926",
      "metadata": {
        "id": "1ce83926"
      },
      "outputs": [],
      "source": [
        "sugar_data['Date'] = pd.to_datetime(sugar_data['Date'], format='%Y', errors='coerce')\n",
        "\n",
        "brl_inr = sugar_data[sugar_data['Country_Name'].isin(countries)]\n",
        "sugar_brl_inr = brl_inr[brl_inr['Attribute_Description'] == 'Cane Sugar Production']\n",
        "\n",
        "\n",
        "#Clear version of brazil and India total sugar production from 1960\n",
        "brazil_india_sugar = sugar_brl_inr[['Date','Country_Name', 'Total_Cane_Sugar_Production_1000MT']]\n"
      ]
    },
    {
      "cell_type": "code",
      "execution_count": 138,
      "id": "786891ff",
      "metadata": {
        "id": "786891ff"
      },
      "outputs": [],
      "source": [
        "brazil_india_sugar = brazil_india_sugar.copy()\n",
        "brazil_india_sugar.loc[:, 'Date'] = pd.to_datetime(brazil_india_sugar['Date'])\n",
        "brazil_india_sugar.set_index('Date', inplace=True)\n",
        "\n",
        "\n"
      ]
    },
    {
      "cell_type": "code",
      "source": [
        "brazil_india_sugar = brazil_india_sugar.groupby('Date').sum()\n"
      ],
      "metadata": {
        "id": "P4y51SqrMdrc"
      },
      "id": "P4y51SqrMdrc",
      "execution_count": 146,
      "outputs": []
    },
    {
      "cell_type": "code",
      "source": [
        "daily_sugar_production = brazil_india_sugar.resample('D').ffill()\n",
        "daily_sugar_production['daily_production'] = daily_sugar_production['Total_Cane_Sugar_Production_1000MT'] / 365\n",
        "daily_sugar_production = daily_sugar_production[['daily_production']]"
      ],
      "metadata": {
        "id": "zAMSF_gaLLQB"
      },
      "id": "zAMSF_gaLLQB",
      "execution_count": 147,
      "outputs": []
    },
    {
      "cell_type": "code",
      "source": [],
      "metadata": {
        "id": "VDNyC447qElL"
      },
      "id": "VDNyC447qElL",
      "execution_count": null,
      "outputs": []
    },
    {
      "cell_type": "code",
      "source": [],
      "metadata": {
        "id": "izL98tsFqEcY"
      },
      "id": "izL98tsFqEcY",
      "execution_count": null,
      "outputs": []
    },
    {
      "cell_type": "code",
      "source": [
        "\n",
        "print(sugar_price.head())\n",
        "sugar_price.columns"
      ],
      "metadata": {
        "colab": {
          "base_uri": "https://localhost:8080/"
        },
        "id": "fyp44wPhpyhd",
        "outputId": "eada0257-d38b-4b44-f84a-2f982f69324c"
      },
      "id": "fyp44wPhpyhd",
      "execution_count": 213,
      "outputs": [
        {
          "output_type": "stream",
          "name": "stdout",
          "text": [
            "                  US_Cents_per_Pound_sugar\n",
            "observation_date                          \n",
            "1990-01-01                       14.200001\n",
            "1990-02-01                       14.650002\n",
            "1990-03-01                       15.310001\n",
            "1990-04-01                       15.240002\n",
            "1990-05-01                       14.619999\n"
          ]
        },
        {
          "output_type": "execute_result",
          "data": {
            "text/plain": [
              "Index(['US_Cents_per_Pound_sugar'], dtype='object')"
            ]
          },
          "metadata": {},
          "execution_count": 213
        }
      ]
    },
    {
      "cell_type": "code",
      "source": [
        "sugar_price.rename(columns={'PSUGAISAUSDM': 'US_Cents_per_Pound_sugar'}, inplace=True)"
      ],
      "metadata": {
        "id": "9K6VnM4uSIG4"
      },
      "id": "9K6VnM4uSIG4",
      "execution_count": 209,
      "outputs": []
    },
    {
      "cell_type": "code",
      "source": [
        "sugar_price['observation_date'] = pd.to_datetime(sugar_price['observation_date'], errors='coerce')\n"
      ],
      "metadata": {
        "id": "-bX_KFpcqDiJ"
      },
      "id": "-bX_KFpcqDiJ",
      "execution_count": 211,
      "outputs": []
    },
    {
      "cell_type": "code",
      "source": [
        "sugar_price.set_index('observation_date', inplace=True)\n"
      ],
      "metadata": {
        "id": "qJfdg10aqDOw"
      },
      "id": "qJfdg10aqDOw",
      "execution_count": 212,
      "outputs": []
    },
    {
      "cell_type": "code",
      "source": [
        "\n"
      ],
      "metadata": {
        "colab": {
          "base_uri": "https://localhost:8080/"
        },
        "id": "STiky1TUq2HJ",
        "outputId": "3b9e9edf-2e56-4b13-8a14-870c421ec3a6"
      },
      "id": "STiky1TUq2HJ",
      "execution_count": 214,
      "outputs": [
        {
          "output_type": "stream",
          "name": "stdout",
          "text": [
            "0\n"
          ]
        }
      ]
    },
    {
      "cell_type": "code",
      "execution_count": 215,
      "id": "68ca051e",
      "metadata": {
        "id": "68ca051e"
      },
      "outputs": [],
      "source": [
        "\n",
        "daily_sugar_price = sugar_price.resample('D').interpolate(method='linear')"
      ]
    },
    {
      "cell_type": "code",
      "execution_count": 216,
      "id": "974fed15",
      "metadata": {
        "colab": {
          "base_uri": "https://localhost:8080/",
          "height": 206
        },
        "id": "974fed15",
        "outputId": "d169d697-7d3a-43fd-bed3-1932238e59fc"
      },
      "outputs": [
        {
          "output_type": "execute_result",
          "data": {
            "text/plain": [
              "            Mumbai_avg_weather  Mumbai_prcp  Lucknow_avg_weather  \\\n",
              "1990-01-01                23.2          0.0                  7.2   \n",
              "1990-01-02                22.2          0.0                 10.5   \n",
              "1990-01-03                21.8          0.0                 10.2   \n",
              "1990-01-04                25.4          0.0                  9.1   \n",
              "1990-01-05                26.5          0.0                 13.5   \n",
              "\n",
              "            Lucknow_prcp  Delhi_avg_weather  Delhi_prcp  daily_production  \\\n",
              "1990-01-01           0.0                9.4         0.0          59.19726   \n",
              "1990-01-02           0.0                9.3         0.0          59.19726   \n",
              "1990-01-03           NaN                9.0         0.0          59.19726   \n",
              "1990-01-04           0.0               10.7         0.0          59.19726   \n",
              "1990-01-05           0.0               12.6         0.0          59.19726   \n",
              "\n",
              "            US_Cents_per_Pound_sugar  \n",
              "1990-01-01                 14.200001  \n",
              "1990-01-02                 14.214517  \n",
              "1990-01-03                 14.229033  \n",
              "1990-01-04                 14.243549  \n",
              "1990-01-05                 14.258065  "
            ],
            "text/html": [
              "\n",
              "  <div id=\"df-79e6b088-715e-4868-b35b-1de434609d8c\" class=\"colab-df-container\">\n",
              "    <div>\n",
              "<style scoped>\n",
              "    .dataframe tbody tr th:only-of-type {\n",
              "        vertical-align: middle;\n",
              "    }\n",
              "\n",
              "    .dataframe tbody tr th {\n",
              "        vertical-align: top;\n",
              "    }\n",
              "\n",
              "    .dataframe thead th {\n",
              "        text-align: right;\n",
              "    }\n",
              "</style>\n",
              "<table border=\"1\" class=\"dataframe\">\n",
              "  <thead>\n",
              "    <tr style=\"text-align: right;\">\n",
              "      <th></th>\n",
              "      <th>Mumbai_avg_weather</th>\n",
              "      <th>Mumbai_prcp</th>\n",
              "      <th>Lucknow_avg_weather</th>\n",
              "      <th>Lucknow_prcp</th>\n",
              "      <th>Delhi_avg_weather</th>\n",
              "      <th>Delhi_prcp</th>\n",
              "      <th>daily_production</th>\n",
              "      <th>US_Cents_per_Pound_sugar</th>\n",
              "    </tr>\n",
              "  </thead>\n",
              "  <tbody>\n",
              "    <tr>\n",
              "      <th>1990-01-01</th>\n",
              "      <td>23.2</td>\n",
              "      <td>0.0</td>\n",
              "      <td>7.2</td>\n",
              "      <td>0.0</td>\n",
              "      <td>9.4</td>\n",
              "      <td>0.0</td>\n",
              "      <td>59.19726</td>\n",
              "      <td>14.200001</td>\n",
              "    </tr>\n",
              "    <tr>\n",
              "      <th>1990-01-02</th>\n",
              "      <td>22.2</td>\n",
              "      <td>0.0</td>\n",
              "      <td>10.5</td>\n",
              "      <td>0.0</td>\n",
              "      <td>9.3</td>\n",
              "      <td>0.0</td>\n",
              "      <td>59.19726</td>\n",
              "      <td>14.214517</td>\n",
              "    </tr>\n",
              "    <tr>\n",
              "      <th>1990-01-03</th>\n",
              "      <td>21.8</td>\n",
              "      <td>0.0</td>\n",
              "      <td>10.2</td>\n",
              "      <td>NaN</td>\n",
              "      <td>9.0</td>\n",
              "      <td>0.0</td>\n",
              "      <td>59.19726</td>\n",
              "      <td>14.229033</td>\n",
              "    </tr>\n",
              "    <tr>\n",
              "      <th>1990-01-04</th>\n",
              "      <td>25.4</td>\n",
              "      <td>0.0</td>\n",
              "      <td>9.1</td>\n",
              "      <td>0.0</td>\n",
              "      <td>10.7</td>\n",
              "      <td>0.0</td>\n",
              "      <td>59.19726</td>\n",
              "      <td>14.243549</td>\n",
              "    </tr>\n",
              "    <tr>\n",
              "      <th>1990-01-05</th>\n",
              "      <td>26.5</td>\n",
              "      <td>0.0</td>\n",
              "      <td>13.5</td>\n",
              "      <td>0.0</td>\n",
              "      <td>12.6</td>\n",
              "      <td>0.0</td>\n",
              "      <td>59.19726</td>\n",
              "      <td>14.258065</td>\n",
              "    </tr>\n",
              "  </tbody>\n",
              "</table>\n",
              "</div>\n",
              "    <div class=\"colab-df-buttons\">\n",
              "\n",
              "  <div class=\"colab-df-container\">\n",
              "    <button class=\"colab-df-convert\" onclick=\"convertToInteractive('df-79e6b088-715e-4868-b35b-1de434609d8c')\"\n",
              "            title=\"Convert this dataframe to an interactive table.\"\n",
              "            style=\"display:none;\">\n",
              "\n",
              "  <svg xmlns=\"http://www.w3.org/2000/svg\" height=\"24px\" viewBox=\"0 -960 960 960\">\n",
              "    <path d=\"M120-120v-720h720v720H120Zm60-500h600v-160H180v160Zm220 220h160v-160H400v160Zm0 220h160v-160H400v160ZM180-400h160v-160H180v160Zm440 0h160v-160H620v160ZM180-180h160v-160H180v160Zm440 0h160v-160H620v160Z\"/>\n",
              "  </svg>\n",
              "    </button>\n",
              "\n",
              "  <style>\n",
              "    .colab-df-container {\n",
              "      display:flex;\n",
              "      gap: 12px;\n",
              "    }\n",
              "\n",
              "    .colab-df-convert {\n",
              "      background-color: #E8F0FE;\n",
              "      border: none;\n",
              "      border-radius: 50%;\n",
              "      cursor: pointer;\n",
              "      display: none;\n",
              "      fill: #1967D2;\n",
              "      height: 32px;\n",
              "      padding: 0 0 0 0;\n",
              "      width: 32px;\n",
              "    }\n",
              "\n",
              "    .colab-df-convert:hover {\n",
              "      background-color: #E2EBFA;\n",
              "      box-shadow: 0px 1px 2px rgba(60, 64, 67, 0.3), 0px 1px 3px 1px rgba(60, 64, 67, 0.15);\n",
              "      fill: #174EA6;\n",
              "    }\n",
              "\n",
              "    .colab-df-buttons div {\n",
              "      margin-bottom: 4px;\n",
              "    }\n",
              "\n",
              "    [theme=dark] .colab-df-convert {\n",
              "      background-color: #3B4455;\n",
              "      fill: #D2E3FC;\n",
              "    }\n",
              "\n",
              "    [theme=dark] .colab-df-convert:hover {\n",
              "      background-color: #434B5C;\n",
              "      box-shadow: 0px 1px 3px 1px rgba(0, 0, 0, 0.15);\n",
              "      filter: drop-shadow(0px 1px 2px rgba(0, 0, 0, 0.3));\n",
              "      fill: #FFFFFF;\n",
              "    }\n",
              "  </style>\n",
              "\n",
              "    <script>\n",
              "      const buttonEl =\n",
              "        document.querySelector('#df-79e6b088-715e-4868-b35b-1de434609d8c button.colab-df-convert');\n",
              "      buttonEl.style.display =\n",
              "        google.colab.kernel.accessAllowed ? 'block' : 'none';\n",
              "\n",
              "      async function convertToInteractive(key) {\n",
              "        const element = document.querySelector('#df-79e6b088-715e-4868-b35b-1de434609d8c');\n",
              "        const dataTable =\n",
              "          await google.colab.kernel.invokeFunction('convertToInteractive',\n",
              "                                                    [key], {});\n",
              "        if (!dataTable) return;\n",
              "\n",
              "        const docLinkHtml = 'Like what you see? Visit the ' +\n",
              "          '<a target=\"_blank\" href=https://colab.research.google.com/notebooks/data_table.ipynb>data table notebook</a>'\n",
              "          + ' to learn more about interactive tables.';\n",
              "        element.innerHTML = '';\n",
              "        dataTable['output_type'] = 'display_data';\n",
              "        await google.colab.output.renderOutput(dataTable, element);\n",
              "        const docLink = document.createElement('div');\n",
              "        docLink.innerHTML = docLinkHtml;\n",
              "        element.appendChild(docLink);\n",
              "      }\n",
              "    </script>\n",
              "  </div>\n",
              "\n",
              "\n",
              "<div id=\"df-e4062f69-0abf-48bb-a27c-7f39c21c04a7\">\n",
              "  <button class=\"colab-df-quickchart\" onclick=\"quickchart('df-e4062f69-0abf-48bb-a27c-7f39c21c04a7')\"\n",
              "            title=\"Suggest charts\"\n",
              "            style=\"display:none;\">\n",
              "\n",
              "<svg xmlns=\"http://www.w3.org/2000/svg\" height=\"24px\"viewBox=\"0 0 24 24\"\n",
              "     width=\"24px\">\n",
              "    <g>\n",
              "        <path d=\"M19 3H5c-1.1 0-2 .9-2 2v14c0 1.1.9 2 2 2h14c1.1 0 2-.9 2-2V5c0-1.1-.9-2-2-2zM9 17H7v-7h2v7zm4 0h-2V7h2v10zm4 0h-2v-4h2v4z\"/>\n",
              "    </g>\n",
              "</svg>\n",
              "  </button>\n",
              "\n",
              "<style>\n",
              "  .colab-df-quickchart {\n",
              "      --bg-color: #E8F0FE;\n",
              "      --fill-color: #1967D2;\n",
              "      --hover-bg-color: #E2EBFA;\n",
              "      --hover-fill-color: #174EA6;\n",
              "      --disabled-fill-color: #AAA;\n",
              "      --disabled-bg-color: #DDD;\n",
              "  }\n",
              "\n",
              "  [theme=dark] .colab-df-quickchart {\n",
              "      --bg-color: #3B4455;\n",
              "      --fill-color: #D2E3FC;\n",
              "      --hover-bg-color: #434B5C;\n",
              "      --hover-fill-color: #FFFFFF;\n",
              "      --disabled-bg-color: #3B4455;\n",
              "      --disabled-fill-color: #666;\n",
              "  }\n",
              "\n",
              "  .colab-df-quickchart {\n",
              "    background-color: var(--bg-color);\n",
              "    border: none;\n",
              "    border-radius: 50%;\n",
              "    cursor: pointer;\n",
              "    display: none;\n",
              "    fill: var(--fill-color);\n",
              "    height: 32px;\n",
              "    padding: 0;\n",
              "    width: 32px;\n",
              "  }\n",
              "\n",
              "  .colab-df-quickchart:hover {\n",
              "    background-color: var(--hover-bg-color);\n",
              "    box-shadow: 0 1px 2px rgba(60, 64, 67, 0.3), 0 1px 3px 1px rgba(60, 64, 67, 0.15);\n",
              "    fill: var(--button-hover-fill-color);\n",
              "  }\n",
              "\n",
              "  .colab-df-quickchart-complete:disabled,\n",
              "  .colab-df-quickchart-complete:disabled:hover {\n",
              "    background-color: var(--disabled-bg-color);\n",
              "    fill: var(--disabled-fill-color);\n",
              "    box-shadow: none;\n",
              "  }\n",
              "\n",
              "  .colab-df-spinner {\n",
              "    border: 2px solid var(--fill-color);\n",
              "    border-color: transparent;\n",
              "    border-bottom-color: var(--fill-color);\n",
              "    animation:\n",
              "      spin 1s steps(1) infinite;\n",
              "  }\n",
              "\n",
              "  @keyframes spin {\n",
              "    0% {\n",
              "      border-color: transparent;\n",
              "      border-bottom-color: var(--fill-color);\n",
              "      border-left-color: var(--fill-color);\n",
              "    }\n",
              "    20% {\n",
              "      border-color: transparent;\n",
              "      border-left-color: var(--fill-color);\n",
              "      border-top-color: var(--fill-color);\n",
              "    }\n",
              "    30% {\n",
              "      border-color: transparent;\n",
              "      border-left-color: var(--fill-color);\n",
              "      border-top-color: var(--fill-color);\n",
              "      border-right-color: var(--fill-color);\n",
              "    }\n",
              "    40% {\n",
              "      border-color: transparent;\n",
              "      border-right-color: var(--fill-color);\n",
              "      border-top-color: var(--fill-color);\n",
              "    }\n",
              "    60% {\n",
              "      border-color: transparent;\n",
              "      border-right-color: var(--fill-color);\n",
              "    }\n",
              "    80% {\n",
              "      border-color: transparent;\n",
              "      border-right-color: var(--fill-color);\n",
              "      border-bottom-color: var(--fill-color);\n",
              "    }\n",
              "    90% {\n",
              "      border-color: transparent;\n",
              "      border-bottom-color: var(--fill-color);\n",
              "    }\n",
              "  }\n",
              "</style>\n",
              "\n",
              "  <script>\n",
              "    async function quickchart(key) {\n",
              "      const quickchartButtonEl =\n",
              "        document.querySelector('#' + key + ' button');\n",
              "      quickchartButtonEl.disabled = true;  // To prevent multiple clicks.\n",
              "      quickchartButtonEl.classList.add('colab-df-spinner');\n",
              "      try {\n",
              "        const charts = await google.colab.kernel.invokeFunction(\n",
              "            'suggestCharts', [key], {});\n",
              "      } catch (error) {\n",
              "        console.error('Error during call to suggestCharts:', error);\n",
              "      }\n",
              "      quickchartButtonEl.classList.remove('colab-df-spinner');\n",
              "      quickchartButtonEl.classList.add('colab-df-quickchart-complete');\n",
              "    }\n",
              "    (() => {\n",
              "      let quickchartButtonEl =\n",
              "        document.querySelector('#df-e4062f69-0abf-48bb-a27c-7f39c21c04a7 button');\n",
              "      quickchartButtonEl.style.display =\n",
              "        google.colab.kernel.accessAllowed ? 'block' : 'none';\n",
              "    })();\n",
              "  </script>\n",
              "</div>\n",
              "\n",
              "    </div>\n",
              "  </div>\n"
            ],
            "application/vnd.google.colaboratory.intrinsic+json": {
              "type": "dataframe",
              "variable_name": "daily_data",
              "summary": "{\n  \"name\": \"daily_data\",\n  \"rows\": 11894,\n  \"fields\": [\n    {\n      \"column\": \"Mumbai_avg_weather\",\n      \"properties\": {\n        \"dtype\": \"number\",\n        \"std\": 2.189137618296344,\n        \"min\": 17.7,\n        \"max\": 33.7,\n        \"num_unique_values\": 148,\n        \"samples\": [\n          31.6,\n          27.8,\n          19.2\n        ],\n        \"semantic_type\": \"\",\n        \"description\": \"\"\n      }\n    },\n    {\n      \"column\": \"Mumbai_prcp\",\n      \"properties\": {\n        \"dtype\": \"number\",\n        \"std\": 29.808575894478693,\n        \"min\": 0.0,\n        \"max\": 461.0,\n        \"num_unique_values\": 371,\n        \"samples\": [\n          220.0,\n          4.1,\n          0.3\n        ],\n        \"semantic_type\": \"\",\n        \"description\": \"\"\n      }\n    },\n    {\n      \"column\": \"Lucknow_avg_weather\",\n      \"properties\": {\n        \"dtype\": \"number\",\n        \"std\": 6.717715846521693,\n        \"min\": 5.7,\n        \"max\": 39.7,\n        \"num_unique_values\": 321,\n        \"samples\": [\n          13.7,\n          27.6,\n          34.9\n        ],\n        \"semantic_type\": \"\",\n        \"description\": \"\"\n      }\n    },\n    {\n      \"column\": \"Lucknow_prcp\",\n      \"properties\": {\n        \"dtype\": \"number\",\n        \"std\": 17.079050978460643,\n        \"min\": 0.0,\n        \"max\": 470.9,\n        \"num_unique_values\": 202,\n        \"samples\": [\n          42.7,\n          11.7,\n          222.0\n        ],\n        \"semantic_type\": \"\",\n        \"description\": \"\"\n      }\n    },\n    {\n      \"column\": \"Delhi_avg_weather\",\n      \"properties\": {\n        \"dtype\": \"number\",\n        \"std\": 7.326115986837968,\n        \"min\": 6.6,\n        \"max\": 39.8,\n        \"num_unique_values\": 323,\n        \"samples\": [\n          12.7,\n          31.9,\n          16.1\n        ],\n        \"semantic_type\": \"\",\n        \"description\": \"\"\n      }\n    },\n    {\n      \"column\": \"Delhi_prcp\",\n      \"properties\": {\n        \"dtype\": \"number\",\n        \"std\": 12.473497920260076,\n        \"min\": 0.0,\n        \"max\": 262.9,\n        \"num_unique_values\": 191,\n        \"samples\": [\n          77.0,\n          27.2,\n          68.1\n        ],\n        \"semantic_type\": \"\",\n        \"description\": \"\"\n      }\n    },\n    {\n      \"column\": \"daily_production\",\n      \"properties\": {\n        \"dtype\": \"number\",\n        \"std\": 120.17840062490083,\n        \"min\": 55.89041095890411,\n        \"max\": 572.9041095890411,\n        \"num_unique_values\": 29,\n        \"samples\": [\n          402.9972602739726,\n          56.0958904109589,\n          65.23287671232876\n        ],\n        \"semantic_type\": \"\",\n        \"description\": \"\"\n      }\n    },\n    {\n      \"column\": \"US_Cents_per_Pound_sugar\",\n      \"properties\": {\n        \"dtype\": \"number\",\n        \"std\": 5.070513934281404,\n        \"min\": 5.1112,\n        \"max\": 29.7368421052632,\n        \"num_unique_values\": 11892,\n        \"samples\": [\n          11.826277056277034,\n          10.656840528760643,\n          6.053441770186338\n        ],\n        \"semantic_type\": \"\",\n        \"description\": \"\"\n      }\n    }\n  ]\n}"
            }
          },
          "metadata": {},
          "execution_count": 216
        }
      ],
      "source": [
        "\n",
        "daily_features = pd.merge(india_weather, daily_sugar_production, left_index=True, right_index=True, how='inner')\n",
        "daily_data = pd.merge(daily_features, daily_sugar_price, left_index=True, right_index=True, how='inner')\n",
        "\n",
        "daily_data.head(5)"
      ]
    },
    {
      "cell_type": "code",
      "execution_count": 217,
      "id": "19b7fdc2",
      "metadata": {
        "colab": {
          "base_uri": "https://localhost:8080/"
        },
        "id": "19b7fdc2",
        "outputId": "bd14a660-ff80-4828-8c68-52efb782b931"
      },
      "outputs": [
        {
          "output_type": "stream",
          "name": "stdout",
          "text": [
            "Mean Absolute Error (MAE): 3.5410748285334797\n"
          ]
        }
      ],
      "source": [
        "x = daily_data.drop(columns=['US_Cents_per_Pound_sugar'])\n",
        "y = daily_data['US_Cents_per_Pound_sugar']\n",
        "\n",
        "x_train, x_test, y_train, y_test = train_test_split(x, y, test_size=0.2, random_state=42)\n",
        "\n",
        "pipeline = Pipeline([('imputer', SimpleImputer(strategy='mean')), ('scaler', StandardScaler()),\n",
        "    ('lr', LinearRegression())\n",
        "])\n",
        "\n",
        "pipeline.fit(x_train, y_train)\n",
        "\n",
        "y_pred = pipeline.predict(x_test)\n",
        "\n",
        "mae = mean_absolute_error(y_test, y_pred)\n",
        "print(\"Mean Absolute Error (MAE):\", mae)"
      ]
    },
    {
      "cell_type": "code",
      "source": [
        "import matplotlib.pyplot as plt\n",
        "\n",
        "plt.scatter(y_test, y_pred, alpha=0.5)\n",
        "plt.xlabel(\"Actual Prices\")\n",
        "plt.ylabel(\"Predicted Prices\")\n",
        "plt.title(\"Actual vs Predicted Sugar Prices\")\n",
        "plt.show()\n",
        "\n"
      ],
      "metadata": {
        "colab": {
          "base_uri": "https://localhost:8080/",
          "height": 472
        },
        "id": "U7_foNB_aLBO",
        "outputId": "7d7c1327-036e-4556-ce07-c49336f12020"
      },
      "id": "U7_foNB_aLBO",
      "execution_count": 218,
      "outputs": [
        {
          "output_type": "display_data",
          "data": {
            "text/plain": [
              "<Figure size 640x480 with 1 Axes>"
            ],
            "image/png": "[encoded data removed]"
          },
          "metadata": {}
        }
      ]
    },
    {
      "cell_type": "code",
      "source": [
        "daily_data['forecasted_price'] = pipeline.predict(x)\n",
        "daily_data['adjusted_price'] = (1.03 * daily_data['forecasted_price']) + (0.2 * daily_data['forecasted_price'])"
      ],
      "metadata": {
        "id": "q3rWzupcbv3-"
      },
      "id": "q3rWzupcbv3-",
      "execution_count": 226,
      "outputs": []
    },
    {
      "cell_type": "code",
      "source": [
        "\n",
        "st.title(\"Sugar Price Forecast Dashboard\")\n",
        "col1, col2 = st.columns(2)\n",
        "today_forecast = daily_data['forecasted_price'].iloc[-1]  # Last row as today's forecast\n",
        "today_adjusted = daily_data['adjusted_price'].iloc[-1]  # Last row as today's adjusted price\n",
        "\n",
        "\n",
        "with col1:\n",
        "    st.metric(\"Today's Forecasted Price (US Cents/Lb)\", round(today_forecast, 2))\n",
        "\n",
        "with col2:\n",
        "    st.metric(\"Today's Adjusted Price (US Cents/Lb)\", round(today_adjusted, 2))\n",
        "\n",
        "st.subheader(\"Forecasted vs Adjusted Prices\")\n",
        "st.line_chart(daily_data[['forecasted_price', 'adjusted_price']])\n",
        "\n",
        "# Data Display\n",
        "st.subheader(\"Detailed Data\")\n",
        "st.dataframe(daily_data[['forecasted_price', 'adjusted_price', 'US_Cents_per_Pound_sugar']])"
      ],
      "metadata": {
        "colab": {
          "base_uri": "https://localhost:8080/"
        },
        "id": "oRPpKX8OdY8Z",
        "outputId": "d00bc8c6-735e-4859-f19f-37abef30afd3"
      },
      "id": "oRPpKX8OdY8Z",
      "execution_count": 236,
      "outputs": [
        {
          "output_type": "stream",
          "name": "stderr",
          "text": [
            "2024-12-20 01:41:27.323 Thread 'MainThread': missing ScriptRunContext! This warning can be ignored when running in bare mode.\n",
            "2024-12-20 01:41:27.326 Thread 'MainThread': missing ScriptRunContext! This warning can be ignored when running in bare mode.\n",
            "2024-12-20 01:41:27.329 Thread 'MainThread': missing ScriptRunContext! This warning can be ignored when running in bare mode.\n",
            "2024-12-20 01:41:27.332 Thread 'MainThread': missing ScriptRunContext! This warning can be ignored when running in bare mode.\n",
            "2024-12-20 01:41:27.334 Thread 'MainThread': missing ScriptRunContext! This warning can be ignored when running in bare mode.\n",
            "2024-12-20 01:41:27.337 Thread 'MainThread': missing ScriptRunContext! This warning can be ignored when running in bare mode.\n",
            "2024-12-20 01:41:27.338 Thread 'MainThread': missing ScriptRunContext! This warning can be ignored when running in bare mode.\n",
            "2024-12-20 01:41:27.340 Thread 'MainThread': missing ScriptRunContext! This warning can be ignored when running in bare mode.\n",
            "2024-12-20 01:41:27.341 Thread 'MainThread': missing ScriptRunContext! This warning can be ignored when running in bare mode.\n",
            "2024-12-20 01:41:27.346 Thread 'MainThread': missing ScriptRunContext! This warning can be ignored when running in bare mode.\n",
            "2024-12-20 01:41:27.348 Thread 'MainThread': missing ScriptRunContext! This warning can be ignored when running in bare mode.\n",
            "2024-12-20 01:41:27.461 Thread 'MainThread': missing ScriptRunContext! This warning can be ignored when running in bare mode.\n",
            "2024-12-20 01:41:27.463 Thread 'MainThread': missing ScriptRunContext! This warning can be ignored when running in bare mode.\n",
            "2024-12-20 01:41:27.466 Thread 'MainThread': missing ScriptRunContext! This warning can be ignored when running in bare mode.\n",
            "2024-12-20 01:41:27.468 Thread 'MainThread': missing ScriptRunContext! This warning can be ignored when running in bare mode.\n",
            "2024-12-20 01:41:27.475 Thread 'MainThread': missing ScriptRunContext! This warning can be ignored when running in bare mode.\n",
            "2024-12-20 01:41:27.477 Thread 'MainThread': missing ScriptRunContext! This warning can be ignored when running in bare mode.\n"
          ]
        },
        {
          "output_type": "execute_result",
          "data": {
            "text/plain": [
              "DeltaGenerator()"
            ]
          },
          "metadata": {},
          "execution_count": 236
        }
      ]
    }
  ],
  "metadata": {
    "kernelspec": {
      "display_name": "Python 3",
      "language": "python",
      "name": "python3"
    },
    "language_info": {
      "codemirror_mode": {
        "name": "ipython",
        "version": 3
      },
      "file_extension": ".py",
      "mimetype": "text/x-python",
      "name": "python",
      "nbconvert_exporter": "python",
      "pygments_lexer": "ipython3",
      "version": "3.8.8"
    },
    "colab": {
      "provenance": []
    }
  },
  "nbformat": 4,
  "nbformat_minor": 5
}